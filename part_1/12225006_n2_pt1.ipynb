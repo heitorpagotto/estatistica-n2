{
 "cells": [
  {
   "metadata": {},
   "cell_type": "markdown",
   "source": [
    "# Trabalho 1\n",
    "\n",
    "**Nome:** José Heitor Pagotto\n",
    "\n",
    "**RA:** 12225006"
   ],
   "id": "4d307ac389285d5d"
  },
  {
   "metadata": {
    "ExecuteTime": {
     "end_time": "2024-05-25T18:34:46.888053Z",
     "start_time": "2024-05-25T18:34:45.535512Z"
    }
   },
   "cell_type": "code",
   "source": [
    "import math\n",
    "import matplotlib.pyplot as plt\n",
    "from collections import Counter"
   ],
   "id": "de85247fb6638a8b",
   "outputs": [],
   "execution_count": 25
  },
  {
   "cell_type": "code",
   "id": "initial_id",
   "metadata": {
    "collapsed": true,
    "ExecuteTime": {
     "end_time": "2024-05-25T18:34:46.896229Z",
     "start_time": "2024-05-25T18:34:46.889015Z"
    }
   },
   "source": [
    "# Definir funções base\n",
    "\n",
    "# Média\n",
    "def calc_mean(numbers):\n",
    "    number_sum = sum(float(x) for x in numbers) # números são convertidos para float, caso ocorra um input fora do normal\n",
    "    return number_sum / len(numbers)\n",
    "\n",
    "#Mediana\n",
    "def calc_median(numbers):\n",
    "    # Organiza os números em uma lista\n",
    "    sorted_numbers = sorted(numbers)\n",
    "    numbers_length = len(sorted_numbers)\n",
    "    \n",
    "    if numbers_length % 2 == 1:\n",
    "        # Se a quantidade de números na lista for ímpar, pega o número do meio\n",
    "        median = sorted_numbers[numbers_length // 2]\n",
    "    else:\n",
    "        # Se a quantidade de números for par, calcula a média dos dois números do meio\n",
    "        mid1 = sorted_numbers[numbers_length // 2 - 1]\n",
    "        mid2 = sorted_numbers[numbers_length // 2]\n",
    "        median = (mid1 + mid2) / 2\n",
    "    \n",
    "    return median\n",
    "\n",
    "# Desvio padrão\n",
    "def calc_standard_deviation(numbers):\n",
    "    mean = calc_mean(numbers) # Calcula a média dos números\n",
    "    print(f\"Média: {mean}\\n\")\n",
    "    \n",
    "    deviation_sum = 0 # declara a variável para a soma dos desvios\n",
    "    deviation_str = \"\" # utilizada para ilustração do cálculo\n",
    "    for pos, number in enumerate(numbers):\n",
    "        deviation_diff = math.pow(float(number) - mean, 2) # calcula a diferença entre o número da lista e a média, e eleva a 2\n",
    "        if pos == len(numbers) - 1:\n",
    "            # caso o número atual seja o último da lista, somente concatenar ele\n",
    "            deviation_str += f\"{deviation_diff:.2f}\"\n",
    "        else:\n",
    "            # caso o número atual não seja o último da lista, concatenar ele com um +\n",
    "            deviation_str += f\"{deviation_diff:.2f} + \"\n",
    "        deviation_sum += deviation_diff # Soma o desvio do número no total\n",
    "\n",
    "    print(\"Cálculo variância: \")\n",
    "    print(deviation_str)\n",
    "    print(\"-\" * 40)\n",
    "    print(f\"{len(numbers)}\\n\")\n",
    "\n",
    "    variance = deviation_sum / len(numbers) # Calcula a variância, dividindo a soma com a quantidade de números no conjunto\n",
    "\n",
    "    print(f\"Variância: {variance}\\n\")\n",
    "\n",
    "    return math.sqrt(variance) # raiz quadrada da variância é o desvio padrão\n",
    "\n",
    "# Moda\n",
    "def calc_mode(numbers):\n",
    "    frequency_counts = Counter(numbers) # Cria um dicionário com a frequência que os números aparecem no conjunto\n",
    "    \n",
    "    highest_frequency = max(frequency_counts.values()) # Pega a maior quantidade de frequência\n",
    "    \n",
    "    # Retorna os números que tiveram a mesma frequência que a maior, definida na variável anterior\n",
    "    modes = [number for number, repeat_count in frequency_counts.items() if repeat_count == highest_frequency]\n",
    "    \n",
    "    return modes"
   ],
   "outputs": [],
   "execution_count": 26
  },
  {
   "metadata": {},
   "cell_type": "markdown",
   "source": "#### 1. Um conjunto de dados é dado como: 3, 7, 8, 5, 12, 14, 21, 13, 18.",
   "id": "64d59e94762cc902"
  },
  {
   "metadata": {
    "ExecuteTime": {
     "end_time": "2024-05-25T18:34:46.901577Z",
     "start_time": "2024-05-25T18:34:46.897224Z"
    }
   },
   "cell_type": "code",
   "source": [
    "list = [3,7,8,5,12,14,21,13,18]\n",
    "\n",
    "# a) Calcule a média\n",
    "mean = calc_mean(list)\n",
    "print(\"a) Média: \", mean)\n",
    "\n",
    "#b) Calcule a mediana\n",
    "median = calc_median(list)\n",
    "print(\"b) Mediana: \", median)"
   ],
   "id": "465669955c1c066a",
   "outputs": [
    {
     "name": "stdout",
     "output_type": "stream",
     "text": [
      "a) Média:  11.222222222222221\n",
      "b) Mediana:  12\n"
     ]
    }
   ],
   "execution_count": 27
  },
  {
   "metadata": {},
   "cell_type": "markdown",
   "source": "#### 2. Utilizando o conjunto de dados da questão anterior:",
   "id": "1cd408188024b1c1"
  },
  {
   "metadata": {
    "ExecuteTime": {
     "end_time": "2024-05-25T18:34:46.906806Z",
     "start_time": "2024-05-25T18:34:46.902569Z"
    }
   },
   "cell_type": "code",
   "source": [
    "# a) Calcule a variância\n",
    "# b) Calcule o desvio padrão\n",
    "\n",
    "standard_deviation = calc_standard_deviation(list)\n",
    "print(\"Desvio padrão: \", standard_deviation)"
   ],
   "id": "ba0cb156a81821aa",
   "outputs": [
    {
     "name": "stdout",
     "output_type": "stream",
     "text": [
      "Média: 11.222222222222221\n",
      "\n",
      "Cálculo variância: \n",
      "67.60 + 17.83 + 10.38 + 38.72 + 0.60 + 7.72 + 95.60 + 3.16 + 45.94\n",
      "----------------------------------------\n",
      "9\n",
      "\n",
      "Variância: 31.950617283950617\n",
      "\n",
      "Desvio padrão:  5.652487707545291\n"
     ]
    }
   ],
   "execution_count": 28
  },
  {
   "metadata": {},
   "cell_type": "markdown",
   "source": "#### 3. Determine a média, a mediana e a moda para cada um dos conjuntos de dados abaixo.",
   "id": "57da8aa30e704d0a"
  },
  {
   "metadata": {
    "ExecuteTime": {
     "end_time": "2024-05-25T18:34:46.913350Z",
     "start_time": "2024-05-25T18:34:46.907804Z"
    }
   },
   "cell_type": "code",
   "source": [
    "# a) 51, 4, 34, 78, 65, 90, 106\n",
    "a_list = [51, 4, 34, 78, 65, 90, 106]\n",
    "print(\"Lista A: \", a_list)\n",
    "print(\"Média: \", calc_mean(a_list))\n",
    "print(\"Mediana: \", calc_median(a_list))\n",
    "print(\"Moda: \", calc_mode(a_list))\n",
    "print(\"\\n\")\n",
    "\n",
    "# b) 95, 45, 32, 67, 89, 34, 12, 97, 45\n",
    "b_list = [95, 45, 32, 67, 89, 34, 12, 97, 45]\n",
    "print(\"Lista B: \", b_list)\n",
    "print(\"Média: \", calc_mean(b_list))\n",
    "print(\"Mediana: \", calc_median(b_list))\n",
    "print(\"Moda: \", calc_mode(b_list))\n",
    "print(\"\\n\")\n",
    "\n",
    "# c) 1, 1, 1, 1, 2, 2, 3, 4, 4, 4, 4, 5, 5, 5, 5\n",
    "c_list = [1, 1, 1, 1, 2, 2, 3, 4, 4, 4, 4, 5, 5, 5, 5]\n",
    "print(\"Lista C: \", c_list)\n",
    "print(\"Média: \", calc_mean(c_list))\n",
    "print(\"Mediana: \", calc_median(c_list))\n",
    "print(\"Moda: \", calc_mode(c_list))\n",
    "print(\"\\n\")\n",
    "\n",
    "# d) 7, 7, 7, 7, 7, 7, 7\n",
    "d_list = [7, 7, 7, 7, 7, 7, 7]\n",
    "print(\"Lista D: \", d_list)\n",
    "print(\"Média: \", calc_mean(d_list))\n",
    "print(\"Mediana: \", calc_median(d_list))\n",
    "print(\"Moda: \", calc_mode(d_list))\n",
    "print(\"\\n\")"
   ],
   "id": "f71c6e8735aae71f",
   "outputs": [
    {
     "name": "stdout",
     "output_type": "stream",
     "text": [
      "Lista A:  [51, 4, 34, 78, 65, 90, 106]\n",
      "Média:  61.142857142857146\n",
      "Mediana:  65\n",
      "Moda:  [51, 4, 34, 78, 65, 90, 106]\n",
      "\n",
      "\n",
      "Lista B:  [95, 45, 32, 67, 89, 34, 12, 97, 45]\n",
      "Média:  57.333333333333336\n",
      "Mediana:  45\n",
      "Moda:  [45]\n",
      "\n",
      "\n",
      "Lista C:  [1, 1, 1, 1, 2, 2, 3, 4, 4, 4, 4, 5, 5, 5, 5]\n",
      "Média:  3.1333333333333333\n",
      "Mediana:  4\n",
      "Moda:  [1, 4, 5]\n",
      "\n",
      "\n",
      "Lista D:  [7, 7, 7, 7, 7, 7, 7]\n",
      "Média:  7.0\n",
      "Mediana:  7\n",
      "Moda:  [7]\n",
      "\n",
      "\n"
     ]
    }
   ],
   "execution_count": 29
  },
  {
   "metadata": {},
   "cell_type": "markdown",
   "source": [
    "#### 4. Em cada item a seguir, classifique as variáveis em quantitativa (discreta ou contínua) ou qualitativa (ordinais ou nominais):\n",
    "\n",
    "   a) Classificação das colunas de um jornal, por seu editor, como excelentes, boas ou ruins.\n",
    "   \n",
    "   **R: Qualitativa Ordinal. Existe uma ordem para a qualidade (excelentes, boas ou ruins)**    \n",
    "\n",
    "  \n",
    "   b) Grau de escolaridade dos governantes dos estados brasileiros.\n",
    "   \n",
    "   **R: Qualitativa Ordinal. Existe uma ordem de escolaridade (ensino fundamental, ensino médio, graduação, etc)**\n",
    "   \n",
    "        \n",
    "   c) Vendas anuais de uma empresa do setor de telefonia celular.\n",
    "    \n",
    "   **R: Quantitativa Contínua. Os valores de venda podem assumir qualquer valor dentro de um intervalo**\n",
    "   \n",
    "        \n",
    "   d) Marcas de desodorante.\n",
    "   \n",
    "   **R: Qualitativa Nominal. São categorias sem ordem implícita**\n",
    "   \n",
    "        \n",
    "   e) Tamanhos de roupa expressos em P, M e G.\n",
    "   \n",
    "   **R: Qualitativa Ordinal. Possuí a ordem P, M e G**\n",
    "   \n",
    "     \n",
    "   f) Número de livros da biblioteca de uma escola.\n",
    "   \n",
    "   **R: Quantitativa Discreta. O número de livros é contado em valores inteiros.**\n",
    "   \n",
    "     \n",
    "   g) Número de lojas da cidade de Ilhéus, na Bahia.\n",
    "   \n",
    "   **R: Quantitativa Discreta. O número de lojas é contado em valores inteiros.** "
   ],
   "id": "c02310f400d00a6d"
  },
  {
   "metadata": {},
   "cell_type": "markdown",
   "source": [
    "#### 5. Observe o quadro de cadastro de funcionários.\n",
    "\n",
    "![Tabela](imgs/ex_5.png \"Tabela\")\n",
    "\n",
    "Identifique as variáveis qualitativas e as variáveis quantitatvias (contínuas ou discretas)\n",
    "\n",
    "R:\n",
    "* **Nome:** Qualitativas Nominal\n",
    "* **Sexo:** Qualitativa Nominal\n",
    "* **Salário:** Quantitativa Contínua\n",
    "* **Grau de Escolaridade:** Qualitativa Ordinal\n",
    "* **Tempo de Serviço:** Quantitativa Discreta\n"
   ],
   "id": "32644635c87bd9d5"
  },
  {
   "metadata": {},
   "cell_type": "markdown",
   "source": [
    "#### 6. Apresente por meio de um gráfico os dados obtidos na pesquisa que Rui fez em sua classe.\n",
    "\n",
    "![Tabela Rui](imgs/ex_6.png \"Tabela Rui\")"
   ],
   "id": "59704de02da0677e"
  },
  {
   "metadata": {
    "ExecuteTime": {
     "end_time": "2024-05-25T18:34:47.055099Z",
     "start_time": "2024-05-25T18:34:46.914332Z"
    }
   },
   "cell_type": "code",
   "source": [
    "labels = ['Samba', 'Rock', 'Axé']\n",
    "sizes = [25, 50, 25]\n",
    "\n",
    "figure, chart = plt.subplots()\n",
    "chart.pie(sizes, labels=labels, autopct='%1.1f%%', startangle=90)\n",
    "chart.axis('equal') \n",
    "plt.title('Preferência musical dos alunos da classe de Rui')\n",
    "plt.show()"
   ],
   "id": "9dfb8d0234ad2da4",
   "outputs": [
    {
     "data": {
      "text/plain": [
       "<Figure size 640x480 with 1 Axes>"
      ],
      "image/png": "[encoded data removed]"
     },
     "metadata": {},
     "output_type": "display_data"
    }
   ],
   "execution_count": 30
  },
  {
   "metadata": {},
   "cell_type": "markdown",
   "source": [
    "#### 7. A agência de turismo Nova pesquisou a preferência do meio de transporte para uma viagem turística.\n",
    "\n",
    "![Gráfico](imgs/ex_7.png \"Grafico\")\n",
    "\n",
    "**a) Que tipo de gráfico é esse?**\n",
    "\n",
    "R: Um gráfico pizza\n",
    "\n",
    "**b) A que assunto se refere?**\n",
    "\n",
    "R: O gráfico é uma representação dos resultados de uma pesquisa, que coletou a preferência do meio de transporte de clientes para viagens turísticas\n",
    "\n",
    "**c) Segundo os dados da pesquisa, qual é o meio de transporte preferido para uma viagem turística?**\n",
    "\n",
    "R: O meio preferido é Rodoviário\n",
    "\n",
    "**d) Determine as medidas aproximadas dos ângulos centrais dos setores correspondentes às porcentagens. (use 360 graus para o gráfico)**\n",
    "\n",
    "R: \n",
    "Rodoviário: 225°,\n",
    "Aéreo: 90°,\n",
    "Ferroviário: 45°\n"
   ],
   "id": "a6b74f40c6368cf7"
  },
  {
   "metadata": {},
   "cell_type": "markdown",
   "source": [
    "#### 8. Durante determinada hora do dia, Amanda fez cinco ligações de seu aparelho celular, pertencente à operadora “trim”. O tempo, em minutos, gasto em cada ligação está relacionado ao lado. Em relação a essas ligações de Amanda determine:\n",
    "\n",
    "![Tabela](imgs/ex_8.png \"Tabela\")\n"
   ],
   "id": "6af17a10dfe396a6"
  },
  {
   "metadata": {
    "ExecuteTime": {
     "end_time": "2024-05-25T18:58:59.246341Z",
     "start_time": "2024-05-25T18:58:59.241822Z"
    }
   },
   "cell_type": "code",
   "source": [
    "times = [2,5,14,10,5]\n",
    "# a) o tempo médio de duração das ligações realizadas.\n",
    "mean_times = calc_mean(times)\n",
    "print(\"a) Média: \", mean_times)\n",
    "\n",
    "# b) o tempo mediano de duração dessas ligações.\n",
    "median_times = calc_median(times)\n",
    "print(\"b) Mediana: \", median_times)\n",
    "\n",
    "# c) o tempo modal de duração das ligações.\n",
    "modal_times = calc_mode(times)\n",
    "print(\"c) Moda: \", modal_times)\n",
    "\n",
    "# d) Sabendo que o valor da tarifa por minuto de ligação na operadora “trim” é de R$ 1,05, calcular o gasto médio por ligação.\n",
    "cost_per_minute = 1.05\n",
    "\n",
    "mean_cost = calc_mean([(2 * cost_per_minute), (5 * cost_per_minute), (14 * cost_per_minute), (10 * cost_per_minute), (5 * cost_per_minute)])\n",
    "\n",
    "print(f\"d) Média custo por ligação: ~{mean_cost:.2f}\")"
   ],
   "id": "403cdf79a29de470",
   "outputs": [
    {
     "name": "stdout",
     "output_type": "stream",
     "text": [
      "a) Média:  7.2\n",
      "b) Mediana:  5\n",
      "c) Moda:  [5]\n",
      "Média custo por ligação: ~7.56\n"
     ]
    }
   ],
   "execution_count": 32
  },
  {
   "metadata": {},
   "cell_type": "code",
   "outputs": [],
   "execution_count": null,
   "source": "",
   "id": "10f82e5895b80943"
  }
 ],
 "metadata": {
  "kernelspec": {
   "display_name": "Python 3",
   "language": "python",
   "name": "python3"
  },
  "language_info": {
   "codemirror_mode": {
    "name": "ipython",
    "version": 2
   },
   "file_extension": ".py",
   "mimetype": "text/x-python",
   "name": "python",
   "nbconvert_exporter": "python",
   "pygments_lexer": "ipython2",
   "version": "2.7.6"
  }
 },
 "nbformat": 4,
 "nbformat_minor": 5
}
